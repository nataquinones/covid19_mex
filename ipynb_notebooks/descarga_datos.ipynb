{
 "cells": [
  {
   "cell_type": "markdown",
   "metadata": {},
   "source": [
    "# Descarga y procesamiento de datos de la Secretaría de Salud"
   ]
  },
  {
   "cell_type": "markdown",
   "metadata": {},
   "source": [
    "## Descripción\n",
    "Script para descargar y procesar PDFs del [Coronavirus-Comunicado Técnico Diario](https://www.gob.mx/salud/documentos/coronavirus-covid-19-comunicado-tecnico-diario-238449) de la **Secretaría de Salud** del Gobierno de México.\n",
    "\n",
    "La descarga se realiza y se archiva en el directorio `/ssalud_pdf`\n",
    "\n",
    "El procesamiento consiste en convertir los PDFs en tablas en formato `tsv` y añadir anotaciones sobre casos nuevos, que en el PDF están indicadas por las filas azules. Los datos puros se encuentran en `datos/tablas_originales`"
   ]
  },
  {
   "cell_type": "markdown",
   "metadata": {},
   "source": [
    "## Descarga de PDFs"
   ]
  },
  {
   "cell_type": "markdown",
   "metadata": {
    "collapsed": "true"
   },
   "source": [
    "### Código"
   ]
  },
  {
   "cell_type": "code",
   "execution_count": 15,
   "metadata": {},
   "outputs": [],
   "source": [
    "import requests\n",
    "from bs4 import BeautifulSoup"
   ]
  },
  {
   "cell_type": "code",
   "execution_count": 3,
   "metadata": {},
   "outputs": [],
   "source": [
    "def extract_documents(url, outdir='.'):\n",
    "    '''\n",
    "    Funciona con el formato en 2020.03.25\n",
    "    '''\n",
    "    \n",
    "    # obtener sitio\n",
    "    page = requests.get(url)\n",
    "    soup = BeautifulSoup(page.content, 'html.parser')\n",
    "    \n",
    "    # encotnrar seccion de documentos\n",
    "    # 2020.03.25: Seccion de documentos bajo <div class=\"clearfix\">\n",
    "    documents = soup.find('div', attrs={'class': 'clearfix'})\n",
    "            \n",
    "    # links de los documentos\n",
    "    file_urls = []\n",
    "    \n",
    "    for href in documents.find_all('a', href=True):\n",
    "        file_urls.append(href['href'])\n",
    "        \n",
    "    # descargar\n",
    "    for i in range(len(file_urls)):\n",
    "        file_url = file_urls[i]\n",
    "        file_name = file_urls[i].split('/')[-1]\n",
    "        response = requests.get(f'https://www.gob.mx{file_url}')\n",
    "        \n",
    "        with open(f'{outdir}/{file_name}', 'wb') as f:\n",
    "            f.write(response.content)"
   ]
  },
  {
   "cell_type": "markdown",
   "metadata": {},
   "source": [
    "### Descargas"
   ]
  },
  {
   "cell_type": "code",
   "execution_count": 5,
   "metadata": {},
   "outputs": [],
   "source": [
    "descargas_dir = '../datos/ssalud_pdf'"
   ]
  },
  {
   "cell_type": "markdown",
   "metadata": {},
   "source": [
    "#### 2020.03.25"
   ]
  },
  {
   "cell_type": "code",
   "execution_count": null,
   "metadata": {},
   "outputs": [],
   "source": [
    "url = 'https://www.gob.mx/salud/documentos/coronavirus-covid-19-comunicado-tecnico-diario-238449'\n",
    "extract_documents(url, outdir=descargas_dir)"
   ]
  },
  {
   "cell_type": "markdown",
   "metadata": {},
   "source": [
    "#### 2020.03.27"
   ]
  },
  {
   "cell_type": "code",
   "execution_count": 35,
   "metadata": {},
   "outputs": [],
   "source": [
    "url = 'https://www.gob.mx/salud/documentos/coronavirus-covid-19-comunicado-tecnico-diario-238449'\n",
    "extract_documents(url, outdir=descargas_dir)"
   ]
  },
  {
   "cell_type": "markdown",
   "metadata": {},
   "source": [
    "#### 2020.03.28"
   ]
  },
  {
   "cell_type": "code",
   "execution_count": 6,
   "metadata": {},
   "outputs": [],
   "source": [
    "url = 'https://www.gob.mx/salud/documentos/coronavirus-covid-19-comunicado-tecnico-diario-238449'\n",
    "extract_documents(url, outdir=descargas_dir)"
   ]
  },
  {
   "cell_type": "markdown",
   "metadata": {},
   "source": [
    "## Procesamiento de PDFs"
   ]
  },
  {
   "cell_type": "markdown",
   "metadata": {},
   "source": [
    "### Código"
   ]
  },
  {
   "cell_type": "code",
   "execution_count": 21,
   "metadata": {},
   "outputs": [],
   "source": [
    "import camelot\n",
    "import pandas as pd\n",
    "import numpy as np"
   ]
  },
  {
   "cell_type": "code",
   "execution_count": 22,
   "metadata": {},
   "outputs": [],
   "source": [
    "def parse_pdf(file, paginas='all', casos_nuevos=None):\n",
    "    '''\n",
    "    '''\n",
    "    tables = camelot.read_pdf(file, pages=paginas, flavor='stream', row_tol=10)\n",
    "    print('{} paginas'.format(tables.n))\n",
    "\n",
    "    # juntar todas las tablas\n",
    "    tables_list = []\n",
    "    for i in range(0,tables.n):\n",
    "        df_i = tables[i].df\n",
    "        \n",
    "        # buscar columnas con nan\n",
    "        df_i= df_i.replace(r'^\\s*$', np.nan, regex=True)\n",
    "        df_i = df_i.replace('NA', np.nan)\n",
    "        \n",
    "        # remove na columns\n",
    "        df_i = df_i.dropna(axis='columns', thresh=10)\n",
    "        df_i = df_i.T.reset_index(drop=True).T\n",
    "        \n",
    "        # quitar filas de titulo\n",
    "        # por si proceso una pagina vacia\n",
    "        if len(df_i.columns) != 0:\n",
    "            df_i[0] = df_i[0].fillna('notnum')\n",
    "            df_i = df_i[df_i[0].apply(lambda x: x.isnumeric())]\n",
    "        \n",
    "            # argregar a lista\n",
    "            tables_list.append(df_i)\n",
    "\n",
    "    # juntar tabla unica\n",
    "    df = pd.concat(tables_list)\n",
    "    \n",
    "    \n",
    "    # renombrar columnas\n",
    "    df.columns = ['num_caso', 'estado', 'sexo', 'edad', 'fecha_inicio_sintomas', 'id_rt-pcr', 'procedencia', 'fecha_llegada_mx']\n",
    "    \n",
    "    # actualizar index\n",
    "    df.set_index('num_caso', inplace=True, verify_integrity=True)\n",
    "    df.index.name = None\n",
    "    \n",
    "    # convertir a datetime format\n",
    "    df['fecha_inicio_sintomas'] = pd.to_datetime(df['fecha_inicio_sintomas'], format='%d/%m/%Y')\n",
    "    df['fecha_llegada_mx'] = pd.to_datetime(df['fecha_llegada_mx'], format='%d/%m/%Y')\n",
    "    \n",
    "    # limpiar nombres de estados\n",
    "    df['estado'] = df['estado'].str.title()\n",
    "    df['estado'] = df['estado'].str.replace('Ciudad De México', 'Ciudad de México')\n",
    "    df['estado'] = df['estado'].str.replace('\"Estados \\nUnidos\"', 'Estados Unidos')\n",
    "    \n",
    "    # CASOS NUEVOS\n",
    "    \n",
    "    if casos_nuevos:\n",
    "        # interpretar string de casos nuevos\n",
    "        # by: https://stackoverflow.com/users/190597/unutbu\n",
    "        # in: https://stackoverflow.com/questions/4726168/parsing-command-line-input-for-numbers\n",
    "        result = set()\n",
    "\n",
    "        for part in casos_nuevos.split(','):\n",
    "            x = part.split('-')\n",
    "            result.update(range(int(x[0]), int(x[-1]) + 1))\n",
    "\n",
    "        lista_casos_nuevos = sorted(result)\n",
    "\n",
    "        # generar lista con anotaciones de casos nuevos\n",
    "        lista_nuevos = []\n",
    "\n",
    "        for i in df.index:\n",
    "                if int(i) in lista_casos_nuevos:\n",
    "                    lista_nuevos.append(True)\n",
    "                else:\n",
    "                    lista_nuevos.append(False)\n",
    "\n",
    "        df['casos_nuevos'] = lista_nuevos\n",
    "    \n",
    "    else:\n",
    "        print('No se agregara información sobre casos nuevos. (Celdas en azul.)')\n",
    "\n",
    "    return df"
   ]
  },
  {
   "cell_type": "markdown",
   "metadata": {},
   "source": [
    "### Processing"
   ]
  },
  {
   "cell_type": "code",
   "execution_count": 23,
   "metadata": {},
   "outputs": [],
   "source": [
    "pdf_dir = '../datos/ssalud_pdf/'\n",
    "save_dir = '../datos/tablas_originales/'"
   ]
  },
  {
   "cell_type": "code",
   "execution_count": 24,
   "metadata": {},
   "outputs": [],
   "source": [
    "def save_tsv(pdf_name, save_name, celdas_azules):\n",
    "    \n",
    "    df = parse_pdf(f'{pdf_dir}{pdf_name}',\n",
    "                   paginas='all',\n",
    "                   casos_nuevos=celdas_azules)\n",
    "    \n",
    "    df.to_csv(f'{save_dir}{save_name}',\n",
    "              sep='\\t',\n",
    "              index=True)"
   ]
  },
  {
   "cell_type": "markdown",
   "metadata": {},
   "source": [
    "#### 2020-03-16"
   ]
  },
  {
   "cell_type": "code",
   "execution_count": 25,
   "metadata": {},
   "outputs": [
    {
     "name": "stdout",
     "output_type": "stream",
     "text": [
      "2 paginas\n"
     ]
    }
   ],
   "source": [
    "pdf = 'Tabla_casos_positivos_resultado_InDRE_2020.03.16.pdf'\n",
    "celdas_azules = '49-51, 54-57, 60-82'\n",
    "\n",
    "save_name = '20200316_positivos.tsv'\n",
    "\n",
    "save_tsv(pdf, save_name, celdas_azules)"
   ]
  },
  {
   "cell_type": "markdown",
   "metadata": {},
   "source": [
    "#### 2020-03-17"
   ]
  },
  {
   "cell_type": "code",
   "execution_count": 26,
   "metadata": {},
   "outputs": [
    {
     "name": "stdout",
     "output_type": "stream",
     "text": [
      "2 paginas\n"
     ]
    }
   ],
   "source": [
    "pdf = 'Tabla_casos_positivos_resultado_InDRE_2020.03.17.pdf'\n",
    "celdas_azules = '64,66,82,86-93'\n",
    "\n",
    "save_name = '20200317_positivos.tsv'\n",
    "\n",
    "save_tsv(pdf, save_name, celdas_azules)"
   ]
  },
  {
   "cell_type": "markdown",
   "metadata": {},
   "source": [
    "#### 2020-03-18"
   ]
  },
  {
   "cell_type": "code",
   "execution_count": 27,
   "metadata": {},
   "outputs": [
    {
     "name": "stdout",
     "output_type": "stream",
     "text": [
      "3 paginas\n"
     ]
    }
   ],
   "source": [
    "pdf = 'Tabla_casos_positivos_COVID-19_resultado_InDRE_2020.03.18.pdf'\n",
    "celdas_azules = '92-101,103-105,107-118'\n",
    "\n",
    "save_name = '20200318_positivos.tsv'\n",
    "\n",
    "save_tsv(pdf, save_name, celdas_azules)"
   ]
  },
  {
   "cell_type": "markdown",
   "metadata": {},
   "source": [
    "#### 2020-03-19"
   ]
  },
  {
   "cell_type": "code",
   "execution_count": 28,
   "metadata": {},
   "outputs": [
    {
     "name": "stdout",
     "output_type": "stream",
     "text": [
      "4 paginas\n"
     ]
    }
   ],
   "source": [
    "pdf = 'Tabla_casos_positivos_COVID-19_resultado_InDRE_2020.03.19.pdf'\n",
    "celdas_azules = '92,112-115,117-123,125,130,133-164'\n",
    "\n",
    "save_name = '20200319_positivos.tsv'\n",
    "\n",
    "save_tsv(pdf, save_name, celdas_azules)"
   ]
  },
  {
   "cell_type": "markdown",
   "metadata": {},
   "source": [
    "#### 2020-03-20"
   ]
  },
  {
   "cell_type": "code",
   "execution_count": 29,
   "metadata": {},
   "outputs": [
    {
     "name": "stdout",
     "output_type": "stream",
     "text": [
      "4 paginas\n"
     ]
    }
   ],
   "source": [
    "pdf = 'Tabla_casos_positivos_COVID-19_resultado_InDRE_2020.03.20.pdf'\n",
    "celdas_azules = '133,135,138,142,143,145,154-158,160-163,166-168,170,181,182,184-188,190-203'\n",
    "\n",
    "save_name = '20200320_positivos.tsv'\n",
    "\n",
    "save_tsv(pdf, save_name, celdas_azules)"
   ]
  },
  {
   "cell_type": "markdown",
   "metadata": {},
   "source": [
    "#### 2020-03-21"
   ]
  },
  {
   "cell_type": "code",
   "execution_count": 30,
   "metadata": {},
   "outputs": [
    {
     "name": "stdout",
     "output_type": "stream",
     "text": [
      "5 paginas\n"
     ]
    }
   ],
   "source": [
    "pdf = 'Tabla_casos_positivos_COVID-19_resultado_InDRE_2020.03.21.pdf'\n",
    "celdas_azules = '199-205,207,208,210,211,213,214,216,218-251'\n",
    "\n",
    "save_name = '20200321_positivos.tsv'\n",
    "\n",
    "save_tsv(pdf, save_name, celdas_azules)"
   ]
  },
  {
   "cell_type": "markdown",
   "metadata": {},
   "source": [
    "#### 2020-03-22"
   ]
  },
  {
   "cell_type": "code",
   "execution_count": 31,
   "metadata": {},
   "outputs": [
    {
     "name": "stdout",
     "output_type": "stream",
     "text": [
      "7 paginas\n"
     ]
    }
   ],
   "source": [
    "pdf = 'Tabla_casos_positivos_COVID-19_resultado_InDRE_2020.03.22.pdf'\n",
    "celdas_azules = '237,244,246,248-251,255,257,259,261-264,266,267,270,271,273-286,288-316'\n",
    "\n",
    "save_name = '20200322_positivos.tsv'\n",
    "\n",
    "save_tsv(pdf, save_name, celdas_azules)"
   ]
  },
  {
   "cell_type": "markdown",
   "metadata": {},
   "source": [
    "#### 2020-03-23"
   ]
  },
  {
   "cell_type": "code",
   "execution_count": 32,
   "metadata": {},
   "outputs": [
    {
     "name": "stdout",
     "output_type": "stream",
     "text": [
      "7 paginas\n"
     ]
    }
   ],
   "source": [
    "pdf = 'Tabla_casos_positivos_COVID-19_resultado_InDRE_2020.03.23.pdf'\n",
    "celdas_azules = '126,182,219,295-297,307,313-314,322,324-326,330-367'\n",
    "\n",
    "save_name = '20200323_positivos.tsv'\n",
    "\n",
    "save_tsv(pdf, save_name, celdas_azules)"
   ]
  },
  {
   "cell_type": "markdown",
   "metadata": {},
   "source": [
    "#### 2020-03-24"
   ]
  },
  {
   "cell_type": "code",
   "execution_count": 33,
   "metadata": {},
   "outputs": [
    {
     "name": "stdout",
     "output_type": "stream",
     "text": [
      "8 paginas\n"
     ]
    }
   ],
   "source": [
    "pdf = 'Tabla_casos_positivos_COVID-19_resultado_InDRE_2020.03.24.pdf'\n",
    "celdas_azules = '333,334,336,339-342,349,361-364,379,381-405'\n",
    "\n",
    "save_name = '20200324_positivos.tsv'\n",
    "\n",
    "save_tsv(pdf, save_name, celdas_azules)"
   ]
  },
  {
   "cell_type": "markdown",
   "metadata": {},
   "source": [
    "#### 2020-03-25"
   ]
  },
  {
   "cell_type": "code",
   "execution_count": 34,
   "metadata": {},
   "outputs": [
    {
     "name": "stdout",
     "output_type": "stream",
     "text": [
      "9 paginas\n"
     ]
    }
   ],
   "source": [
    "pdf = 'Tabla_casos_positivos_COVID-19_resultado_InDRE_2020.03.25.pdf'\n",
    "celdas_azules = '126,397-403,407,408,410,411,415,416,418,420,422-475'\n",
    "\n",
    "save_name = '20200325_positivos.tsv'\n",
    "\n",
    "save_tsv(pdf, save_name, celdas_azules)"
   ]
  },
  {
   "cell_type": "markdown",
   "metadata": {},
   "source": [
    "#### 2020-03-26"
   ]
  },
  {
   "cell_type": "code",
   "execution_count": 35,
   "metadata": {},
   "outputs": [
    {
     "name": "stdout",
     "output_type": "stream",
     "text": [
      "13 paginas\n"
     ]
    }
   ],
   "source": [
    "pdf = 'Tabla_casos_positivos_COVID-19_resultado_InDRE_2020.03.26.pdf'\n",
    "celdas_azules = '428,443-445,447,448,451,453,454,462,468,470,472,473,476,477,479-481,483-486,490,493-499,501-507,509-520,522,523,526,528-585'\n",
    "\n",
    "save_name = '20200326_positivos.tsv'\n",
    "\n",
    "save_tsv(pdf, save_name, celdas_azules)"
   ]
  },
  {
   "cell_type": "markdown",
   "metadata": {},
   "source": [
    "#### 2020-03-27"
   ]
  },
  {
   "cell_type": "code",
   "execution_count": 36,
   "metadata": {},
   "outputs": [
    {
     "name": "stdout",
     "output_type": "stream",
     "text": [
      "15 paginas\n"
     ]
    }
   ],
   "source": [
    "pdf = 'Tabla_casos_positivos_COVID-19_resultado_InDRE_2020.03.27.pdf'\n",
    "celdas_azules = '101-105,110-112,114-115,240,346,351,372,374,553-564,566,568,582,584-586,588,589,592,593,595,597,599,600,602-611,614,617,620,625,628,631,642-717'\n",
    "\n",
    "save_name = '20200327_positivos.tsv'\n",
    "\n",
    "save_tsv(pdf, save_name, celdas_azules)"
   ]
  },
  {
   "cell_type": "markdown",
   "metadata": {},
   "source": [
    "#### 2020-03-28"
   ]
  },
  {
   "cell_type": "code",
   "execution_count": 37,
   "metadata": {},
   "outputs": [
    {
     "name": "stdout",
     "output_type": "stream",
     "text": [
      "16 paginas\n"
     ]
    }
   ],
   "source": [
    "pdf = 'Tabla_casos_positivos_COVID-19_resultado_InDRE_2020.03.28.pdf'\n",
    "celdas_azules = '49-56,146,249,251,353,463,664,667,676,678,680,686,692,695,697,703,707,725,726,728-730,732,733,738,740,742,744,748,750,752,755-848'\n",
    "\n",
    "save_name = '20200328_positivos.tsv'\n",
    "\n",
    "save_tsv(pdf, save_name, celdas_azules)"
   ]
  },
  {
   "cell_type": "code",
   "execution_count": null,
   "metadata": {},
   "outputs": [],
   "source": []
  }
 ],
 "metadata": {
  "kernelspec": {
   "display_name": "Python 3",
   "language": "python",
   "name": "python3"
  },
  "language_info": {
   "codemirror_mode": {
    "name": "ipython",
    "version": 3
   },
   "file_extension": ".py",
   "mimetype": "text/x-python",
   "name": "python",
   "nbconvert_exporter": "python",
   "pygments_lexer": "ipython3",
   "version": "3.6.10"
  }
 },
 "nbformat": 4,
 "nbformat_minor": 4
}
