{
 "cells": [
  {
   "cell_type": "markdown",
   "metadata": {},
   "source": [
    "# Mapa"
   ]
  },
  {
   "cell_type": "code",
   "execution_count": 200,
   "metadata": {},
   "outputs": [],
   "source": [
    "import plotly.graph_objects as go\n",
    "import chart_studio.plotly as py\n",
    "import chart_studio.tools as tls\n",
    "import pandas as pd\n",
    "import numpy as np\n",
    "import datetime as datetime"
   ]
  },
  {
   "cell_type": "code",
   "execution_count": 196,
   "metadata": {},
   "outputs": [],
   "source": [
    "def map_stat(table_file, html=None):\n",
    "    \n",
    "    # \n",
    "    tabla_coord_estados = '../misc/coord_estados_mexico.tsv'\n",
    "    \n",
    "    df = pd.read_csv(table_file,\n",
    "                     sep='\\t',\n",
    "                     parse_dates=['fecha_inicio_sintomas', 'fecha_llegada_mx', 'fecha_caso_nuevo'])\n",
    "    \n",
    "    df['count'] = len(df) * [1]\n",
    "    df = df[['estado', 'procedencia', 'fecha_caso_nuevo', 'count']]\n",
    "    \n",
    "    df_counts = df.groupby('estado').sum().reset_index()\n",
    "    \n",
    "    \n",
    "    df_estados = pd.read_csv(tabla_coord_estados, sep='\\t')\n",
    "    \n",
    "    df_map = df_counts.merge(df_estados, on='estado')\n",
    "    \n",
    "    countlog_list = []\n",
    "    for num in df_map['count']:\n",
    "        if num == 0:\n",
    "            countlog = 0\n",
    "        else:\n",
    "            countlog = np.log(num)\n",
    "        countlog_list.append(countlog)\n",
    "        \n",
    "    df_map['countlog'] = countlog_list\n",
    "    df_map['text'] = df_map['abrev'] + '<br>' + df_map['count'].astype(str)\n",
    "    \n",
    "    recent_day = sorted(df['fecha_caso_nuevo'].value_counts().index)[-1].strftime('%Y-%m-%d')\n",
    "    \n",
    "    # Map\n",
    "    fig = go.Figure()\n",
    "\n",
    "    fig.add_trace(go.Scattergeo(\n",
    "        lon = df_map['long'],\n",
    "        lat = df_map['lat'],\n",
    "        hoverinfo = 'text',\n",
    "        text = df_map['text'],\n",
    "        mode = 'markers',\n",
    "        marker = dict(\n",
    "            size = df_map['countlog'],\n",
    "            color = 'rgb(255, 0, 0)',\n",
    "            line = dict(\n",
    "                width = 3,\n",
    "                color = 'rgba(68, 68, 68, 0)'\n",
    "            )\n",
    "        )))\n",
    "\n",
    "    fig.update_layout(\n",
    "         title={'text': '<b>covid19</b>: casos confirmados   <i>{}</i>'.format(recent_day),\n",
    "                'x': 0.03,\n",
    "                'y': 0.02},\n",
    "        showlegend = False,\n",
    "        height=500, margin={\"r\":0,\"t\":30,\"l\":0,\"b\":30},\n",
    "        geo = dict(\n",
    "            scope = 'world',\n",
    "            projection_type = 'natural earth',\n",
    "            showcountries = True,\n",
    "            landcolor = 'rgb(243, 243, 243)',\n",
    "            #fitbounds=\"locations\",\n",
    "            countrycolor = 'rgb(204, 204, 204)',\n",
    "            lataxis_range=[14,34],\n",
    "            lonaxis_range=[-127, -76],\n",
    "        ),\n",
    "        width=1000\n",
    "    )\n",
    "\n",
    "    fig.show()\n",
    "    \n",
    "    fig.write_html(html)\n",
    "    \n",
    "    return df_map, fig"
   ]
  },
  {
   "cell_type": "code",
   "execution_count": 197,
   "metadata": {},
   "outputs": [
    {
     "data": {
      "application/vnd.plotly.v1+json": {
       "config": {
        "plotlyServerURL": "https://plot.ly"
       },
       "data": [
        {
         "hoverinfo": "text",
         "lat": [
          22.021667,
          29.95,
          25.846110999999997,
          18.836389,
          16.41,
          28.814166999999998,
          19.419444,
          27.302221999999997,
          19.096667,
          24.934722,
          21.018889,
          17.613056,
          20.478333,
          20.566667000000002,
          19.168611,
          18.7475,
          19.354167,
          21.743889000000003,
          25.566667000000002,
          16.898056,
          19.003611,
          19.6,
          22.603333,
          25.002778,
          29.646110999999998,
          17.972222,
          24.287222,
          19.428889,
          19.434722,
          20.833333,
          23.292778
         ],
         "lon": [
          -102.35638900000001,
          -115.11666699999999,
          -111.972778,
          -90.40333299999999,
          -92.408611,
          -106.439444,
          -99.145556,
          -102.044722,
          -103.960833,
          -104.91194399999999,
          -101.262778,
          -99.95,
          -98.86361099999999,
          -103.676389,
          -101.899722,
          -99.070278,
          -99.630833,
          -105.228333,
          -99.970556,
          -96.414167,
          -97.88833299999999,
          -87.916667,
          -100.429722,
          -107.502778,
          -110.868889,
          -92.588889,
          -98.563333,
          -98.160833,
          -96.38305600000001,
          -89,
          -102.700556
         ],
         "marker": {
          "color": "rgb(255, 0, 0)",
          "line": {
           "color": "rgba(68, 68, 68, 0)",
           "width": 3
          },
          "size": [
           3.1780538303479458,
           3.1354942159291497,
           2.3978952727983707,
           1.0986122886681098,
           2.3978952727983707,
           1.791759469228055,
           5.2832037287379885,
           3.4657359027997265,
           0.6931471805599453,
           1.9459101490553132,
           3.6109179126442243,
           2.5649493574615367,
           2.833213344056216,
           4.442651256490317,
           2.833213344056216,
           1.791759469228055,
           4.77912349311153,
           1.6094379124341003,
           4.204692619390966,
           2.6390573296152584,
           4.189654742026425,
           3.6375861597263857,
           3.1780538303479458,
           2.9444389791664403,
           2.6390573296152584,
           3.4965075614664802,
           1.9459101490553132,
           1.3862943611198906,
           3.1780538303479458,
           3.713572066704308,
           1.6094379124341003
          ]
         },
         "mode": "markers",
         "text": [
          "Ags.<br>24",
          "B. C.<br>23",
          "B. C. S.<br>11",
          "Camp.<br>3",
          "Chis.<br>11",
          "Chih.<br>6",
          "CDMX<br>197",
          "Coah.<br>32",
          "Col.<br>2",
          "Dgo.<br>7",
          "Gto.<br>37",
          "Gro.<br>13",
          "Hgo.<br>17",
          "Jal.<br>85",
          "Mich.<br>17",
          "Mor.<br>6",
          "Méx.<br>119",
          "Nay.<br>5",
          "N. L.<br>67",
          "Oax.<br>14",
          "Pue.<br>66",
          "Q. R.<br>38",
          "S. L. P.<br>24",
          "Sin.<br>19",
          "Son.<br>14",
          "Tab.<br>33",
          "Tamps.<br>7",
          "Tlax.<br>4",
          "Ver.<br>24",
          "Yuc.<br>41",
          "Zac.<br>5"
         ],
         "type": "scattergeo"
        }
       ],
       "layout": {
        "geo": {
         "center": {
          "lat": 24,
          "lon": -101.5
         },
         "countrycolor": "rgb(204, 204, 204)",
         "fitbounds": false,
         "landcolor": "rgb(243, 243, 243)",
         "lataxis": {
          "range": [
           14,
           34
          ]
         },
         "lonaxis": {
          "range": [
           -127,
           -76
          ]
         },
         "projection": {
          "rotation": {
           "lon": -101.5
          },
          "scale": 1,
          "type": "natural earth"
         },
         "scope": "world",
         "showcountries": true
        },
        "height": 500,
        "margin": {
         "b": 30,
         "l": 0,
         "r": 0,
         "t": 30
        },
        "showlegend": false,
        "template": {
         "data": {
          "bar": [
           {
            "error_x": {
             "color": "#2a3f5f"
            },
            "error_y": {
             "color": "#2a3f5f"
            },
            "marker": {
             "line": {
              "color": "#E5ECF6",
              "width": 0.5
             }
            },
            "type": "bar"
           }
          ],
          "barpolar": [
           {
            "marker": {
             "line": {
              "color": "#E5ECF6",
              "width": 0.5
             }
            },
            "type": "barpolar"
           }
          ],
          "carpet": [
           {
            "aaxis": {
             "endlinecolor": "#2a3f5f",
             "gridcolor": "white",
             "linecolor": "white",
             "minorgridcolor": "white",
             "startlinecolor": "#2a3f5f"
            },
            "baxis": {
             "endlinecolor": "#2a3f5f",
             "gridcolor": "white",
             "linecolor": "white",
             "minorgridcolor": "white",
             "startlinecolor": "#2a3f5f"
            },
            "type": "carpet"
           }
          ],
          "choropleth": [
           {
            "colorbar": {
             "outlinewidth": 0,
             "ticks": ""
            },
            "type": "choropleth"
           }
          ],
          "contour": [
           {
            "colorbar": {
             "outlinewidth": 0,
             "ticks": ""
            },
            "colorscale": [
             [
              0,
              "#0d0887"
             ],
             [
              0.1111111111111111,
              "#46039f"
             ],
             [
              0.2222222222222222,
              "#7201a8"
             ],
             [
              0.3333333333333333,
              "#9c179e"
             ],
             [
              0.4444444444444444,
              "#bd3786"
             ],
             [
              0.5555555555555556,
              "#d8576b"
             ],
             [
              0.6666666666666666,
              "#ed7953"
             ],
             [
              0.7777777777777778,
              "#fb9f3a"
             ],
             [
              0.8888888888888888,
              "#fdca26"
             ],
             [
              1,
              "#f0f921"
             ]
            ],
            "type": "contour"
           }
          ],
          "contourcarpet": [
           {
            "colorbar": {
             "outlinewidth": 0,
             "ticks": ""
            },
            "type": "contourcarpet"
           }
          ],
          "heatmap": [
           {
            "colorbar": {
             "outlinewidth": 0,
             "ticks": ""
            },
            "colorscale": [
             [
              0,
              "#0d0887"
             ],
             [
              0.1111111111111111,
              "#46039f"
             ],
             [
              0.2222222222222222,
              "#7201a8"
             ],
             [
              0.3333333333333333,
              "#9c179e"
             ],
             [
              0.4444444444444444,
              "#bd3786"
             ],
             [
              0.5555555555555556,
              "#d8576b"
             ],
             [
              0.6666666666666666,
              "#ed7953"
             ],
             [
              0.7777777777777778,
              "#fb9f3a"
             ],
             [
              0.8888888888888888,
              "#fdca26"
             ],
             [
              1,
              "#f0f921"
             ]
            ],
            "type": "heatmap"
           }
          ],
          "heatmapgl": [
           {
            "colorbar": {
             "outlinewidth": 0,
             "ticks": ""
            },
            "colorscale": [
             [
              0,
              "#0d0887"
             ],
             [
              0.1111111111111111,
              "#46039f"
             ],
             [
              0.2222222222222222,
              "#7201a8"
             ],
             [
              0.3333333333333333,
              "#9c179e"
             ],
             [
              0.4444444444444444,
              "#bd3786"
             ],
             [
              0.5555555555555556,
              "#d8576b"
             ],
             [
              0.6666666666666666,
              "#ed7953"
             ],
             [
              0.7777777777777778,
              "#fb9f3a"
             ],
             [
              0.8888888888888888,
              "#fdca26"
             ],
             [
              1,
              "#f0f921"
             ]
            ],
            "type": "heatmapgl"
           }
          ],
          "histogram": [
           {
            "marker": {
             "colorbar": {
              "outlinewidth": 0,
              "ticks": ""
             }
            },
            "type": "histogram"
           }
          ],
          "histogram2d": [
           {
            "colorbar": {
             "outlinewidth": 0,
             "ticks": ""
            },
            "colorscale": [
             [
              0,
              "#0d0887"
             ],
             [
              0.1111111111111111,
              "#46039f"
             ],
             [
              0.2222222222222222,
              "#7201a8"
             ],
             [
              0.3333333333333333,
              "#9c179e"
             ],
             [
              0.4444444444444444,
              "#bd3786"
             ],
             [
              0.5555555555555556,
              "#d8576b"
             ],
             [
              0.6666666666666666,
              "#ed7953"
             ],
             [
              0.7777777777777778,
              "#fb9f3a"
             ],
             [
              0.8888888888888888,
              "#fdca26"
             ],
             [
              1,
              "#f0f921"
             ]
            ],
            "type": "histogram2d"
           }
          ],
          "histogram2dcontour": [
           {
            "colorbar": {
             "outlinewidth": 0,
             "ticks": ""
            },
            "colorscale": [
             [
              0,
              "#0d0887"
             ],
             [
              0.1111111111111111,
              "#46039f"
             ],
             [
              0.2222222222222222,
              "#7201a8"
             ],
             [
              0.3333333333333333,
              "#9c179e"
             ],
             [
              0.4444444444444444,
              "#bd3786"
             ],
             [
              0.5555555555555556,
              "#d8576b"
             ],
             [
              0.6666666666666666,
              "#ed7953"
             ],
             [
              0.7777777777777778,
              "#fb9f3a"
             ],
             [
              0.8888888888888888,
              "#fdca26"
             ],
             [
              1,
              "#f0f921"
             ]
            ],
            "type": "histogram2dcontour"
           }
          ],
          "mesh3d": [
           {
            "colorbar": {
             "outlinewidth": 0,
             "ticks": ""
            },
            "type": "mesh3d"
           }
          ],
          "parcoords": [
           {
            "line": {
             "colorbar": {
              "outlinewidth": 0,
              "ticks": ""
             }
            },
            "type": "parcoords"
           }
          ],
          "pie": [
           {
            "automargin": true,
            "type": "pie"
           }
          ],
          "scatter": [
           {
            "marker": {
             "colorbar": {
              "outlinewidth": 0,
              "ticks": ""
             }
            },
            "type": "scatter"
           }
          ],
          "scatter3d": [
           {
            "line": {
             "colorbar": {
              "outlinewidth": 0,
              "ticks": ""
             }
            },
            "marker": {
             "colorbar": {
              "outlinewidth": 0,
              "ticks": ""
             }
            },
            "type": "scatter3d"
           }
          ],
          "scattercarpet": [
           {
            "marker": {
             "colorbar": {
              "outlinewidth": 0,
              "ticks": ""
             }
            },
            "type": "scattercarpet"
           }
          ],
          "scattergeo": [
           {
            "marker": {
             "colorbar": {
              "outlinewidth": 0,
              "ticks": ""
             }
            },
            "type": "scattergeo"
           }
          ],
          "scattergl": [
           {
            "marker": {
             "colorbar": {
              "outlinewidth": 0,
              "ticks": ""
             }
            },
            "type": "scattergl"
           }
          ],
          "scattermapbox": [
           {
            "marker": {
             "colorbar": {
              "outlinewidth": 0,
              "ticks": ""
             }
            },
            "type": "scattermapbox"
           }
          ],
          "scatterpolar": [
           {
            "marker": {
             "colorbar": {
              "outlinewidth": 0,
              "ticks": ""
             }
            },
            "type": "scatterpolar"
           }
          ],
          "scatterpolargl": [
           {
            "marker": {
             "colorbar": {
              "outlinewidth": 0,
              "ticks": ""
             }
            },
            "type": "scatterpolargl"
           }
          ],
          "scatterternary": [
           {
            "marker": {
             "colorbar": {
              "outlinewidth": 0,
              "ticks": ""
             }
            },
            "type": "scatterternary"
           }
          ],
          "surface": [
           {
            "colorbar": {
             "outlinewidth": 0,
             "ticks": ""
            },
            "colorscale": [
             [
              0,
              "#0d0887"
             ],
             [
              0.1111111111111111,
              "#46039f"
             ],
             [
              0.2222222222222222,
              "#7201a8"
             ],
             [
              0.3333333333333333,
              "#9c179e"
             ],
             [
              0.4444444444444444,
              "#bd3786"
             ],
             [
              0.5555555555555556,
              "#d8576b"
             ],
             [
              0.6666666666666666,
              "#ed7953"
             ],
             [
              0.7777777777777778,
              "#fb9f3a"
             ],
             [
              0.8888888888888888,
              "#fdca26"
             ],
             [
              1,
              "#f0f921"
             ]
            ],
            "type": "surface"
           }
          ],
          "table": [
           {
            "cells": {
             "fill": {
              "color": "#EBF0F8"
             },
             "line": {
              "color": "white"
             }
            },
            "header": {
             "fill": {
              "color": "#C8D4E3"
             },
             "line": {
              "color": "white"
             }
            },
            "type": "table"
           }
          ]
         },
         "layout": {
          "annotationdefaults": {
           "arrowcolor": "#2a3f5f",
           "arrowhead": 0,
           "arrowwidth": 1
          },
          "coloraxis": {
           "colorbar": {
            "outlinewidth": 0,
            "ticks": ""
           }
          },
          "colorscale": {
           "diverging": [
            [
             0,
             "#8e0152"
            ],
            [
             0.1,
             "#c51b7d"
            ],
            [
             0.2,
             "#de77ae"
            ],
            [
             0.3,
             "#f1b6da"
            ],
            [
             0.4,
             "#fde0ef"
            ],
            [
             0.5,
             "#f7f7f7"
            ],
            [
             0.6,
             "#e6f5d0"
            ],
            [
             0.7,
             "#b8e186"
            ],
            [
             0.8,
             "#7fbc41"
            ],
            [
             0.9,
             "#4d9221"
            ],
            [
             1,
             "#276419"
            ]
           ],
           "sequential": [
            [
             0,
             "#0d0887"
            ],
            [
             0.1111111111111111,
             "#46039f"
            ],
            [
             0.2222222222222222,
             "#7201a8"
            ],
            [
             0.3333333333333333,
             "#9c179e"
            ],
            [
             0.4444444444444444,
             "#bd3786"
            ],
            [
             0.5555555555555556,
             "#d8576b"
            ],
            [
             0.6666666666666666,
             "#ed7953"
            ],
            [
             0.7777777777777778,
             "#fb9f3a"
            ],
            [
             0.8888888888888888,
             "#fdca26"
            ],
            [
             1,
             "#f0f921"
            ]
           ],
           "sequentialminus": [
            [
             0,
             "#0d0887"
            ],
            [
             0.1111111111111111,
             "#46039f"
            ],
            [
             0.2222222222222222,
             "#7201a8"
            ],
            [
             0.3333333333333333,
             "#9c179e"
            ],
            [
             0.4444444444444444,
             "#bd3786"
            ],
            [
             0.5555555555555556,
             "#d8576b"
            ],
            [
             0.6666666666666666,
             "#ed7953"
            ],
            [
             0.7777777777777778,
             "#fb9f3a"
            ],
            [
             0.8888888888888888,
             "#fdca26"
            ],
            [
             1,
             "#f0f921"
            ]
           ]
          },
          "colorway": [
           "#636efa",
           "#EF553B",
           "#00cc96",
           "#ab63fa",
           "#FFA15A",
           "#19d3f3",
           "#FF6692",
           "#B6E880",
           "#FF97FF",
           "#FECB52"
          ],
          "font": {
           "color": "#2a3f5f"
          },
          "geo": {
           "bgcolor": "white",
           "lakecolor": "white",
           "landcolor": "#E5ECF6",
           "showlakes": true,
           "showland": true,
           "subunitcolor": "white"
          },
          "hoverlabel": {
           "align": "left"
          },
          "hovermode": "closest",
          "mapbox": {
           "style": "light"
          },
          "paper_bgcolor": "white",
          "plot_bgcolor": "#E5ECF6",
          "polar": {
           "angularaxis": {
            "gridcolor": "white",
            "linecolor": "white",
            "ticks": ""
           },
           "bgcolor": "#E5ECF6",
           "radialaxis": {
            "gridcolor": "white",
            "linecolor": "white",
            "ticks": ""
           }
          },
          "scene": {
           "xaxis": {
            "backgroundcolor": "#E5ECF6",
            "gridcolor": "white",
            "gridwidth": 2,
            "linecolor": "white",
            "showbackground": true,
            "ticks": "",
            "zerolinecolor": "white"
           },
           "yaxis": {
            "backgroundcolor": "#E5ECF6",
            "gridcolor": "white",
            "gridwidth": 2,
            "linecolor": "white",
            "showbackground": true,
            "ticks": "",
            "zerolinecolor": "white"
           },
           "zaxis": {
            "backgroundcolor": "#E5ECF6",
            "gridcolor": "white",
            "gridwidth": 2,
            "linecolor": "white",
            "showbackground": true,
            "ticks": "",
            "zerolinecolor": "white"
           }
          },
          "shapedefaults": {
           "line": {
            "color": "#2a3f5f"
           }
          },
          "ternary": {
           "aaxis": {
            "gridcolor": "white",
            "linecolor": "white",
            "ticks": ""
           },
           "baxis": {
            "gridcolor": "white",
            "linecolor": "white",
            "ticks": ""
           },
           "bgcolor": "#E5ECF6",
           "caxis": {
            "gridcolor": "white",
            "linecolor": "white",
            "ticks": ""
           }
          },
          "title": {
           "x": 0.05
          },
          "xaxis": {
           "automargin": true,
           "gridcolor": "white",
           "linecolor": "white",
           "ticks": "",
           "title": {
            "standoff": 15
           },
           "zerolinecolor": "white",
           "zerolinewidth": 2
          },
          "yaxis": {
           "automargin": true,
           "gridcolor": "white",
           "linecolor": "white",
           "ticks": "",
           "title": {
            "standoff": 15
           },
           "zerolinecolor": "white",
           "zerolinewidth": 2
          }
         }
        },
        "title": {
         "text": "<b>covid19</b>: casos confirmados   <i>2020-03-29</i>",
         "x": 0.03,
         "y": 0.02
        },
        "width": 1000
       }
      },
      "image/png": "[encoded data removed]",
      "text/html": [
       "<div>\n",
       "        \n",
       "        \n",
       "            <div id=\"a11fe1fe-6060-4574-83a6-b0e1bbebaf5a\" class=\"plotly-graph-div\" style=\"height:500px; width:1000px;\"></div>\n",
       "            <script type=\"text/javascript\">\n",
       "                require([\"plotly\"], function(Plotly) {\n",
       "                    window.PLOTLYENV=window.PLOTLYENV || {};\n",
       "                    \n",
       "                if (document.getElementById(\"a11fe1fe-6060-4574-83a6-b0e1bbebaf5a\")) {\n",
       "                    Plotly.newPlot(\n",
       "                        'a11fe1fe-6060-4574-83a6-b0e1bbebaf5a',\n",
       "                        [{\"hoverinfo\": \"text\", \"lat\": [22.021667, 29.95, 25.846110999999997, 18.836389, 16.41, 28.814166999999998, 19.419444, 27.302221999999997, 19.096667, 24.934722, 21.018889, 17.613056, 20.478333, 20.566667000000002, 19.168611, 18.7475, 19.354167, 21.743889000000003, 25.566667000000002, 16.898056, 19.003611, 19.6, 22.603333, 25.002778, 29.646110999999998, 17.972222, 24.287222, 19.428889, 19.434722, 20.833333, 23.292778], \"lon\": [-102.35638900000001, -115.11666699999999, -111.972778, -90.40333299999999, -92.408611, -106.439444, -99.145556, -102.044722, -103.960833, -104.91194399999999, -101.262778, -99.95, -98.86361099999999, -103.676389, -101.899722, -99.070278, -99.630833, -105.228333, -99.970556, -96.414167, -97.88833299999999, -87.916667, -100.429722, -107.502778, -110.868889, -92.588889, -98.563333, -98.160833, -96.38305600000001, -89.0, -102.700556], \"marker\": {\"color\": \"rgb(255, 0, 0)\", \"line\": {\"color\": \"rgba(68, 68, 68, 0)\", \"width\": 3}, \"size\": [3.1780538303479458, 3.1354942159291497, 2.3978952727983707, 1.0986122886681098, 2.3978952727983707, 1.791759469228055, 5.2832037287379885, 3.4657359027997265, 0.6931471805599453, 1.9459101490553132, 3.6109179126442243, 2.5649493574615367, 2.833213344056216, 4.442651256490317, 2.833213344056216, 1.791759469228055, 4.77912349311153, 1.6094379124341003, 4.204692619390966, 2.6390573296152584, 4.189654742026425, 3.6375861597263857, 3.1780538303479458, 2.9444389791664403, 2.6390573296152584, 3.4965075614664802, 1.9459101490553132, 1.3862943611198906, 3.1780538303479458, 3.713572066704308, 1.6094379124341003]}, \"mode\": \"markers\", \"text\": [\"Ags.<br>24\", \"B. C.<br>23\", \"B. C. S.<br>11\", \"Camp.<br>3\", \"Chis.<br>11\", \"Chih.<br>6\", \"CDMX<br>197\", \"Coah.<br>32\", \"Col.<br>2\", \"Dgo.<br>7\", \"Gto.<br>37\", \"Gro.<br>13\", \"Hgo.<br>17\", \"Jal.<br>85\", \"Mich.<br>17\", \"Mor.<br>6\", \"M\\u00e9x.<br>119\", \"Nay.<br>5\", \"N. L.<br>67\", \"Oax.<br>14\", \"Pue.<br>66\", \"Q. R.<br>38\", \"S. L. P.<br>24\", \"Sin.<br>19\", \"Son.<br>14\", \"Tab.<br>33\", \"Tamps.<br>7\", \"Tlax.<br>4\", \"Ver.<br>24\", \"Yuc.<br>41\", \"Zac.<br>5\"], \"type\": \"scattergeo\"}],\n",
       "                        {\"geo\": {\"countrycolor\": \"rgb(204, 204, 204)\", \"landcolor\": \"rgb(243, 243, 243)\", \"lataxis\": {\"range\": [14, 34]}, \"lonaxis\": {\"range\": [-127, -76]}, \"projection\": {\"type\": \"natural earth\"}, \"scope\": \"world\", \"showcountries\": true}, \"height\": 500, \"margin\": {\"b\": 30, \"l\": 0, \"r\": 0, \"t\": 30}, \"showlegend\": false, \"template\": {\"data\": {\"bar\": [{\"error_x\": {\"color\": \"#2a3f5f\"}, \"error_y\": {\"color\": \"#2a3f5f\"}, \"marker\": {\"line\": {\"color\": \"#E5ECF6\", \"width\": 0.5}}, \"type\": \"bar\"}], \"barpolar\": [{\"marker\": {\"line\": {\"color\": \"#E5ECF6\", \"width\": 0.5}}, \"type\": \"barpolar\"}], \"carpet\": [{\"aaxis\": {\"endlinecolor\": \"#2a3f5f\", \"gridcolor\": \"white\", \"linecolor\": \"white\", \"minorgridcolor\": \"white\", \"startlinecolor\": \"#2a3f5f\"}, \"baxis\": {\"endlinecolor\": \"#2a3f5f\", \"gridcolor\": \"white\", \"linecolor\": \"white\", \"minorgridcolor\": \"white\", \"startlinecolor\": \"#2a3f5f\"}, \"type\": \"carpet\"}], \"choropleth\": [{\"colorbar\": {\"outlinewidth\": 0, \"ticks\": \"\"}, \"type\": \"choropleth\"}], \"contour\": [{\"colorbar\": {\"outlinewidth\": 0, \"ticks\": \"\"}, \"colorscale\": [[0.0, \"#0d0887\"], [0.1111111111111111, \"#46039f\"], [0.2222222222222222, \"#7201a8\"], [0.3333333333333333, \"#9c179e\"], [0.4444444444444444, \"#bd3786\"], [0.5555555555555556, \"#d8576b\"], [0.6666666666666666, \"#ed7953\"], [0.7777777777777778, \"#fb9f3a\"], [0.8888888888888888, \"#fdca26\"], [1.0, \"#f0f921\"]], \"type\": \"contour\"}], \"contourcarpet\": [{\"colorbar\": {\"outlinewidth\": 0, \"ticks\": \"\"}, \"type\": \"contourcarpet\"}], \"heatmap\": [{\"colorbar\": {\"outlinewidth\": 0, \"ticks\": \"\"}, \"colorscale\": [[0.0, \"#0d0887\"], [0.1111111111111111, \"#46039f\"], [0.2222222222222222, \"#7201a8\"], [0.3333333333333333, \"#9c179e\"], [0.4444444444444444, \"#bd3786\"], [0.5555555555555556, \"#d8576b\"], [0.6666666666666666, \"#ed7953\"], [0.7777777777777778, \"#fb9f3a\"], [0.8888888888888888, \"#fdca26\"], [1.0, \"#f0f921\"]], \"type\": \"heatmap\"}], \"heatmapgl\": [{\"colorbar\": {\"outlinewidth\": 0, \"ticks\": \"\"}, \"colorscale\": [[0.0, \"#0d0887\"], [0.1111111111111111, \"#46039f\"], [0.2222222222222222, \"#7201a8\"], [0.3333333333333333, \"#9c179e\"], [0.4444444444444444, \"#bd3786\"], [0.5555555555555556, \"#d8576b\"], [0.6666666666666666, \"#ed7953\"], [0.7777777777777778, \"#fb9f3a\"], [0.8888888888888888, \"#fdca26\"], [1.0, \"#f0f921\"]], \"type\": \"heatmapgl\"}], \"histogram\": [{\"marker\": {\"colorbar\": {\"outlinewidth\": 0, \"ticks\": \"\"}}, \"type\": \"histogram\"}], \"histogram2d\": [{\"colorbar\": {\"outlinewidth\": 0, \"ticks\": \"\"}, \"colorscale\": [[0.0, \"#0d0887\"], [0.1111111111111111, \"#46039f\"], [0.2222222222222222, \"#7201a8\"], [0.3333333333333333, \"#9c179e\"], [0.4444444444444444, \"#bd3786\"], [0.5555555555555556, \"#d8576b\"], [0.6666666666666666, \"#ed7953\"], [0.7777777777777778, \"#fb9f3a\"], [0.8888888888888888, \"#fdca26\"], [1.0, \"#f0f921\"]], \"type\": \"histogram2d\"}], \"histogram2dcontour\": [{\"colorbar\": {\"outlinewidth\": 0, \"ticks\": \"\"}, \"colorscale\": [[0.0, \"#0d0887\"], [0.1111111111111111, \"#46039f\"], [0.2222222222222222, \"#7201a8\"], [0.3333333333333333, \"#9c179e\"], [0.4444444444444444, \"#bd3786\"], [0.5555555555555556, \"#d8576b\"], [0.6666666666666666, \"#ed7953\"], [0.7777777777777778, \"#fb9f3a\"], [0.8888888888888888, \"#fdca26\"], [1.0, \"#f0f921\"]], \"type\": \"histogram2dcontour\"}], \"mesh3d\": [{\"colorbar\": {\"outlinewidth\": 0, \"ticks\": \"\"}, \"type\": \"mesh3d\"}], \"parcoords\": [{\"line\": {\"colorbar\": {\"outlinewidth\": 0, \"ticks\": \"\"}}, \"type\": \"parcoords\"}], \"pie\": [{\"automargin\": true, \"type\": \"pie\"}], \"scatter\": [{\"marker\": {\"colorbar\": {\"outlinewidth\": 0, \"ticks\": \"\"}}, \"type\": \"scatter\"}], \"scatter3d\": [{\"line\": {\"colorbar\": {\"outlinewidth\": 0, \"ticks\": \"\"}}, \"marker\": {\"colorbar\": {\"outlinewidth\": 0, \"ticks\": \"\"}}, \"type\": \"scatter3d\"}], \"scattercarpet\": [{\"marker\": {\"colorbar\": {\"outlinewidth\": 0, \"ticks\": \"\"}}, \"type\": \"scattercarpet\"}], \"scattergeo\": [{\"marker\": {\"colorbar\": {\"outlinewidth\": 0, \"ticks\": \"\"}}, \"type\": \"scattergeo\"}], \"scattergl\": [{\"marker\": {\"colorbar\": {\"outlinewidth\": 0, \"ticks\": \"\"}}, \"type\": \"scattergl\"}], \"scattermapbox\": [{\"marker\": {\"colorbar\": {\"outlinewidth\": 0, \"ticks\": \"\"}}, \"type\": \"scattermapbox\"}], \"scatterpolar\": [{\"marker\": {\"colorbar\": {\"outlinewidth\": 0, \"ticks\": \"\"}}, \"type\": \"scatterpolar\"}], \"scatterpolargl\": [{\"marker\": {\"colorbar\": {\"outlinewidth\": 0, \"ticks\": \"\"}}, \"type\": \"scatterpolargl\"}], \"scatterternary\": [{\"marker\": {\"colorbar\": {\"outlinewidth\": 0, \"ticks\": \"\"}}, \"type\": \"scatterternary\"}], \"surface\": [{\"colorbar\": {\"outlinewidth\": 0, \"ticks\": \"\"}, \"colorscale\": [[0.0, \"#0d0887\"], [0.1111111111111111, \"#46039f\"], [0.2222222222222222, \"#7201a8\"], [0.3333333333333333, \"#9c179e\"], [0.4444444444444444, \"#bd3786\"], [0.5555555555555556, \"#d8576b\"], [0.6666666666666666, \"#ed7953\"], [0.7777777777777778, \"#fb9f3a\"], [0.8888888888888888, \"#fdca26\"], [1.0, \"#f0f921\"]], \"type\": \"surface\"}], \"table\": [{\"cells\": {\"fill\": {\"color\": \"#EBF0F8\"}, \"line\": {\"color\": \"white\"}}, \"header\": {\"fill\": {\"color\": \"#C8D4E3\"}, \"line\": {\"color\": \"white\"}}, \"type\": \"table\"}]}, \"layout\": {\"annotationdefaults\": {\"arrowcolor\": \"#2a3f5f\", \"arrowhead\": 0, \"arrowwidth\": 1}, \"coloraxis\": {\"colorbar\": {\"outlinewidth\": 0, \"ticks\": \"\"}}, \"colorscale\": {\"diverging\": [[0, \"#8e0152\"], [0.1, \"#c51b7d\"], [0.2, \"#de77ae\"], [0.3, \"#f1b6da\"], [0.4, \"#fde0ef\"], [0.5, \"#f7f7f7\"], [0.6, \"#e6f5d0\"], [0.7, \"#b8e186\"], [0.8, \"#7fbc41\"], [0.9, \"#4d9221\"], [1, \"#276419\"]], \"sequential\": [[0.0, \"#0d0887\"], [0.1111111111111111, \"#46039f\"], [0.2222222222222222, \"#7201a8\"], [0.3333333333333333, \"#9c179e\"], [0.4444444444444444, \"#bd3786\"], [0.5555555555555556, \"#d8576b\"], [0.6666666666666666, \"#ed7953\"], [0.7777777777777778, \"#fb9f3a\"], [0.8888888888888888, \"#fdca26\"], [1.0, \"#f0f921\"]], \"sequentialminus\": [[0.0, \"#0d0887\"], [0.1111111111111111, \"#46039f\"], [0.2222222222222222, \"#7201a8\"], [0.3333333333333333, \"#9c179e\"], [0.4444444444444444, \"#bd3786\"], [0.5555555555555556, \"#d8576b\"], [0.6666666666666666, \"#ed7953\"], [0.7777777777777778, \"#fb9f3a\"], [0.8888888888888888, \"#fdca26\"], [1.0, \"#f0f921\"]]}, \"colorway\": [\"#636efa\", \"#EF553B\", \"#00cc96\", \"#ab63fa\", \"#FFA15A\", \"#19d3f3\", \"#FF6692\", \"#B6E880\", \"#FF97FF\", \"#FECB52\"], \"font\": {\"color\": \"#2a3f5f\"}, \"geo\": {\"bgcolor\": \"white\", \"lakecolor\": \"white\", \"landcolor\": \"#E5ECF6\", \"showlakes\": true, \"showland\": true, \"subunitcolor\": \"white\"}, \"hoverlabel\": {\"align\": \"left\"}, \"hovermode\": \"closest\", \"mapbox\": {\"style\": \"light\"}, \"paper_bgcolor\": \"white\", \"plot_bgcolor\": \"#E5ECF6\", \"polar\": {\"angularaxis\": {\"gridcolor\": \"white\", \"linecolor\": \"white\", \"ticks\": \"\"}, \"bgcolor\": \"#E5ECF6\", \"radialaxis\": {\"gridcolor\": \"white\", \"linecolor\": \"white\", \"ticks\": \"\"}}, \"scene\": {\"xaxis\": {\"backgroundcolor\": \"#E5ECF6\", \"gridcolor\": \"white\", \"gridwidth\": 2, \"linecolor\": \"white\", \"showbackground\": true, \"ticks\": \"\", \"zerolinecolor\": \"white\"}, \"yaxis\": {\"backgroundcolor\": \"#E5ECF6\", \"gridcolor\": \"white\", \"gridwidth\": 2, \"linecolor\": \"white\", \"showbackground\": true, \"ticks\": \"\", \"zerolinecolor\": \"white\"}, \"zaxis\": {\"backgroundcolor\": \"#E5ECF6\", \"gridcolor\": \"white\", \"gridwidth\": 2, \"linecolor\": \"white\", \"showbackground\": true, \"ticks\": \"\", \"zerolinecolor\": \"white\"}}, \"shapedefaults\": {\"line\": {\"color\": \"#2a3f5f\"}}, \"ternary\": {\"aaxis\": {\"gridcolor\": \"white\", \"linecolor\": \"white\", \"ticks\": \"\"}, \"baxis\": {\"gridcolor\": \"white\", \"linecolor\": \"white\", \"ticks\": \"\"}, \"bgcolor\": \"#E5ECF6\", \"caxis\": {\"gridcolor\": \"white\", \"linecolor\": \"white\", \"ticks\": \"\"}}, \"title\": {\"x\": 0.05}, \"xaxis\": {\"automargin\": true, \"gridcolor\": \"white\", \"linecolor\": \"white\", \"ticks\": \"\", \"title\": {\"standoff\": 15}, \"zerolinecolor\": \"white\", \"zerolinewidth\": 2}, \"yaxis\": {\"automargin\": true, \"gridcolor\": \"white\", \"linecolor\": \"white\", \"ticks\": \"\", \"title\": {\"standoff\": 15}, \"zerolinecolor\": \"white\", \"zerolinewidth\": 2}}}, \"title\": {\"text\": \"<b>covid19</b>: casos confirmados   <i>2020-03-29</i>\", \"x\": 0.03, \"y\": 0.02}, \"width\": 1000},\n",
       "                        {\"responsive\": true}\n",
       "                    ).then(function(){\n",
       "                            \n",
       "var gd = document.getElementById('a11fe1fe-6060-4574-83a6-b0e1bbebaf5a');\n",
       "var x = new MutationObserver(function (mutations, observer) {{\n",
       "        var display = window.getComputedStyle(gd).display;\n",
       "        if (!display || display === 'none') {{\n",
       "            console.log([gd, 'removed!']);\n",
       "            Plotly.purge(gd);\n",
       "            observer.disconnect();\n",
       "        }}\n",
       "}});\n",
       "\n",
       "// Listen for the removal of the full notebook cells\n",
       "var notebookContainer = gd.closest('#notebook-container');\n",
       "if (notebookContainer) {{\n",
       "    x.observe(notebookContainer, {childList: true});\n",
       "}}\n",
       "\n",
       "// Listen for the clearing of the current output cell\n",
       "var outputEl = gd.closest('.output');\n",
       "if (outputEl) {{\n",
       "    x.observe(outputEl, {childList: true});\n",
       "}}\n",
       "\n",
       "                        })\n",
       "                };\n",
       "                });\n",
       "            </script>\n",
       "        </div>"
      ]
     },
     "metadata": {},
     "output_type": "display_data"
    }
   ],
   "source": [
    "df_map, fig = map_stat('../datos/tablas_procesadas/tabla_completa.tsv', html='../figuras/map_20200329.html')"
   ]
  },
  {
   "cell_type": "code",
   "execution_count": 201,
   "metadata": {},
   "outputs": [],
   "source": [
    "plotly_url = py.plot(fig, filename = '20200329_staticmap', auto_open=True)"
   ]
  },
  {
   "cell_type": "code",
   "execution_count": 209,
   "metadata": {},
   "outputs": [
    {
     "data": {
      "text/html": [
       "<div>\n",
       "<style scoped>\n",
       "    .dataframe tbody tr th:only-of-type {\n",
       "        vertical-align: middle;\n",
       "    }\n",
       "\n",
       "    .dataframe tbody tr th {\n",
       "        vertical-align: top;\n",
       "    }\n",
       "\n",
       "    .dataframe thead th {\n",
       "        text-align: right;\n",
       "    }\n",
       "</style>\n",
       "<table border=\"1\" class=\"dataframe\">\n",
       "  <thead>\n",
       "    <tr style=\"text-align: right;\">\n",
       "      <th></th>\n",
       "      <th>estado</th>\n",
       "      <th>count</th>\n",
       "      <th>abrev</th>\n",
       "      <th>lat</th>\n",
       "      <th>long</th>\n",
       "      <th>countlog</th>\n",
       "      <th>text</th>\n",
       "    </tr>\n",
       "  </thead>\n",
       "  <tbody>\n",
       "    <tr>\n",
       "      <th>6</th>\n",
       "      <td>Ciudad de México</td>\n",
       "      <td>197</td>\n",
       "      <td>CDMX</td>\n",
       "      <td>19.419444</td>\n",
       "      <td>-99.145556</td>\n",
       "      <td>5.283204</td>\n",
       "      <td>CDMX&lt;br&gt;197</td>\n",
       "    </tr>\n",
       "    <tr>\n",
       "      <th>16</th>\n",
       "      <td>México</td>\n",
       "      <td>119</td>\n",
       "      <td>Méx.</td>\n",
       "      <td>19.354167</td>\n",
       "      <td>-99.630833</td>\n",
       "      <td>4.779123</td>\n",
       "      <td>Méx.&lt;br&gt;119</td>\n",
       "    </tr>\n",
       "    <tr>\n",
       "      <th>13</th>\n",
       "      <td>Jalisco</td>\n",
       "      <td>85</td>\n",
       "      <td>Jal.</td>\n",
       "      <td>20.566667</td>\n",
       "      <td>-103.676389</td>\n",
       "      <td>4.442651</td>\n",
       "      <td>Jal.&lt;br&gt;85</td>\n",
       "    </tr>\n",
       "    <tr>\n",
       "      <th>18</th>\n",
       "      <td>Nuevo León</td>\n",
       "      <td>67</td>\n",
       "      <td>N. L.</td>\n",
       "      <td>25.566667</td>\n",
       "      <td>-99.970556</td>\n",
       "      <td>4.204693</td>\n",
       "      <td>N. L.&lt;br&gt;67</td>\n",
       "    </tr>\n",
       "    <tr>\n",
       "      <th>20</th>\n",
       "      <td>Puebla</td>\n",
       "      <td>66</td>\n",
       "      <td>Pue.</td>\n",
       "      <td>19.003611</td>\n",
       "      <td>-97.888333</td>\n",
       "      <td>4.189655</td>\n",
       "      <td>Pue.&lt;br&gt;66</td>\n",
       "    </tr>\n",
       "    <tr>\n",
       "      <th>29</th>\n",
       "      <td>Yucatán</td>\n",
       "      <td>41</td>\n",
       "      <td>Yuc.</td>\n",
       "      <td>20.833333</td>\n",
       "      <td>-89.000000</td>\n",
       "      <td>3.713572</td>\n",
       "      <td>Yuc.&lt;br&gt;41</td>\n",
       "    </tr>\n",
       "    <tr>\n",
       "      <th>21</th>\n",
       "      <td>Quintana Roo</td>\n",
       "      <td>38</td>\n",
       "      <td>Q. R.</td>\n",
       "      <td>19.600000</td>\n",
       "      <td>-87.916667</td>\n",
       "      <td>3.637586</td>\n",
       "      <td>Q. R.&lt;br&gt;38</td>\n",
       "    </tr>\n",
       "    <tr>\n",
       "      <th>10</th>\n",
       "      <td>Guanajuato</td>\n",
       "      <td>37</td>\n",
       "      <td>Gto.</td>\n",
       "      <td>21.018889</td>\n",
       "      <td>-101.262778</td>\n",
       "      <td>3.610918</td>\n",
       "      <td>Gto.&lt;br&gt;37</td>\n",
       "    </tr>\n",
       "    <tr>\n",
       "      <th>25</th>\n",
       "      <td>Tabasco</td>\n",
       "      <td>33</td>\n",
       "      <td>Tab.</td>\n",
       "      <td>17.972222</td>\n",
       "      <td>-92.588889</td>\n",
       "      <td>3.496508</td>\n",
       "      <td>Tab.&lt;br&gt;33</td>\n",
       "    </tr>\n",
       "    <tr>\n",
       "      <th>7</th>\n",
       "      <td>Coahuila</td>\n",
       "      <td>32</td>\n",
       "      <td>Coah.</td>\n",
       "      <td>27.302222</td>\n",
       "      <td>-102.044722</td>\n",
       "      <td>3.465736</td>\n",
       "      <td>Coah.&lt;br&gt;32</td>\n",
       "    </tr>\n",
       "    <tr>\n",
       "      <th>0</th>\n",
       "      <td>Aguascalientes</td>\n",
       "      <td>24</td>\n",
       "      <td>Ags.</td>\n",
       "      <td>22.021667</td>\n",
       "      <td>-102.356389</td>\n",
       "      <td>3.178054</td>\n",
       "      <td>Ags.&lt;br&gt;24</td>\n",
       "    </tr>\n",
       "    <tr>\n",
       "      <th>22</th>\n",
       "      <td>San Luis Potosí</td>\n",
       "      <td>24</td>\n",
       "      <td>S. L. P.</td>\n",
       "      <td>22.603333</td>\n",
       "      <td>-100.429722</td>\n",
       "      <td>3.178054</td>\n",
       "      <td>S. L. P.&lt;br&gt;24</td>\n",
       "    </tr>\n",
       "    <tr>\n",
       "      <th>28</th>\n",
       "      <td>Veracruz</td>\n",
       "      <td>24</td>\n",
       "      <td>Ver.</td>\n",
       "      <td>19.434722</td>\n",
       "      <td>-96.383056</td>\n",
       "      <td>3.178054</td>\n",
       "      <td>Ver.&lt;br&gt;24</td>\n",
       "    </tr>\n",
       "    <tr>\n",
       "      <th>1</th>\n",
       "      <td>Baja California</td>\n",
       "      <td>23</td>\n",
       "      <td>B. C.</td>\n",
       "      <td>29.950000</td>\n",
       "      <td>-115.116667</td>\n",
       "      <td>3.135494</td>\n",
       "      <td>B. C.&lt;br&gt;23</td>\n",
       "    </tr>\n",
       "    <tr>\n",
       "      <th>23</th>\n",
       "      <td>Sinaloa</td>\n",
       "      <td>19</td>\n",
       "      <td>Sin.</td>\n",
       "      <td>25.002778</td>\n",
       "      <td>-107.502778</td>\n",
       "      <td>2.944439</td>\n",
       "      <td>Sin.&lt;br&gt;19</td>\n",
       "    </tr>\n",
       "    <tr>\n",
       "      <th>14</th>\n",
       "      <td>Michoacán</td>\n",
       "      <td>17</td>\n",
       "      <td>Mich.</td>\n",
       "      <td>19.168611</td>\n",
       "      <td>-101.899722</td>\n",
       "      <td>2.833213</td>\n",
       "      <td>Mich.&lt;br&gt;17</td>\n",
       "    </tr>\n",
       "    <tr>\n",
       "      <th>12</th>\n",
       "      <td>Hidalgo</td>\n",
       "      <td>17</td>\n",
       "      <td>Hgo.</td>\n",
       "      <td>20.478333</td>\n",
       "      <td>-98.863611</td>\n",
       "      <td>2.833213</td>\n",
       "      <td>Hgo.&lt;br&gt;17</td>\n",
       "    </tr>\n",
       "    <tr>\n",
       "      <th>24</th>\n",
       "      <td>Sonora</td>\n",
       "      <td>14</td>\n",
       "      <td>Son.</td>\n",
       "      <td>29.646111</td>\n",
       "      <td>-110.868889</td>\n",
       "      <td>2.639057</td>\n",
       "      <td>Son.&lt;br&gt;14</td>\n",
       "    </tr>\n",
       "    <tr>\n",
       "      <th>19</th>\n",
       "      <td>Oaxaca</td>\n",
       "      <td>14</td>\n",
       "      <td>Oax.</td>\n",
       "      <td>16.898056</td>\n",
       "      <td>-96.414167</td>\n",
       "      <td>2.639057</td>\n",
       "      <td>Oax.&lt;br&gt;14</td>\n",
       "    </tr>\n",
       "    <tr>\n",
       "      <th>11</th>\n",
       "      <td>Guerrero</td>\n",
       "      <td>13</td>\n",
       "      <td>Gro.</td>\n",
       "      <td>17.613056</td>\n",
       "      <td>-99.950000</td>\n",
       "      <td>2.564949</td>\n",
       "      <td>Gro.&lt;br&gt;13</td>\n",
       "    </tr>\n",
       "    <tr>\n",
       "      <th>4</th>\n",
       "      <td>Chiapas</td>\n",
       "      <td>11</td>\n",
       "      <td>Chis.</td>\n",
       "      <td>16.410000</td>\n",
       "      <td>-92.408611</td>\n",
       "      <td>2.397895</td>\n",
       "      <td>Chis.&lt;br&gt;11</td>\n",
       "    </tr>\n",
       "    <tr>\n",
       "      <th>2</th>\n",
       "      <td>Baja California Sur</td>\n",
       "      <td>11</td>\n",
       "      <td>B. C. S.</td>\n",
       "      <td>25.846111</td>\n",
       "      <td>-111.972778</td>\n",
       "      <td>2.397895</td>\n",
       "      <td>B. C. S.&lt;br&gt;11</td>\n",
       "    </tr>\n",
       "    <tr>\n",
       "      <th>9</th>\n",
       "      <td>Durango</td>\n",
       "      <td>7</td>\n",
       "      <td>Dgo.</td>\n",
       "      <td>24.934722</td>\n",
       "      <td>-104.911944</td>\n",
       "      <td>1.945910</td>\n",
       "      <td>Dgo.&lt;br&gt;7</td>\n",
       "    </tr>\n",
       "    <tr>\n",
       "      <th>26</th>\n",
       "      <td>Tamaulipas</td>\n",
       "      <td>7</td>\n",
       "      <td>Tamps.</td>\n",
       "      <td>24.287222</td>\n",
       "      <td>-98.563333</td>\n",
       "      <td>1.945910</td>\n",
       "      <td>Tamps.&lt;br&gt;7</td>\n",
       "    </tr>\n",
       "    <tr>\n",
       "      <th>15</th>\n",
       "      <td>Morelos</td>\n",
       "      <td>6</td>\n",
       "      <td>Mor.</td>\n",
       "      <td>18.747500</td>\n",
       "      <td>-99.070278</td>\n",
       "      <td>1.791759</td>\n",
       "      <td>Mor.&lt;br&gt;6</td>\n",
       "    </tr>\n",
       "    <tr>\n",
       "      <th>5</th>\n",
       "      <td>Chihuahua</td>\n",
       "      <td>6</td>\n",
       "      <td>Chih.</td>\n",
       "      <td>28.814167</td>\n",
       "      <td>-106.439444</td>\n",
       "      <td>1.791759</td>\n",
       "      <td>Chih.&lt;br&gt;6</td>\n",
       "    </tr>\n",
       "    <tr>\n",
       "      <th>17</th>\n",
       "      <td>Nayarit</td>\n",
       "      <td>5</td>\n",
       "      <td>Nay.</td>\n",
       "      <td>21.743889</td>\n",
       "      <td>-105.228333</td>\n",
       "      <td>1.609438</td>\n",
       "      <td>Nay.&lt;br&gt;5</td>\n",
       "    </tr>\n",
       "    <tr>\n",
       "      <th>30</th>\n",
       "      <td>Zacatecas</td>\n",
       "      <td>5</td>\n",
       "      <td>Zac.</td>\n",
       "      <td>23.292778</td>\n",
       "      <td>-102.700556</td>\n",
       "      <td>1.609438</td>\n",
       "      <td>Zac.&lt;br&gt;5</td>\n",
       "    </tr>\n",
       "    <tr>\n",
       "      <th>27</th>\n",
       "      <td>Tlaxcala</td>\n",
       "      <td>4</td>\n",
       "      <td>Tlax.</td>\n",
       "      <td>19.428889</td>\n",
       "      <td>-98.160833</td>\n",
       "      <td>1.386294</td>\n",
       "      <td>Tlax.&lt;br&gt;4</td>\n",
       "    </tr>\n",
       "    <tr>\n",
       "      <th>3</th>\n",
       "      <td>Campeche</td>\n",
       "      <td>3</td>\n",
       "      <td>Camp.</td>\n",
       "      <td>18.836389</td>\n",
       "      <td>-90.403333</td>\n",
       "      <td>1.098612</td>\n",
       "      <td>Camp.&lt;br&gt;3</td>\n",
       "    </tr>\n",
       "    <tr>\n",
       "      <th>8</th>\n",
       "      <td>Colima</td>\n",
       "      <td>2</td>\n",
       "      <td>Col.</td>\n",
       "      <td>19.096667</td>\n",
       "      <td>-103.960833</td>\n",
       "      <td>0.693147</td>\n",
       "      <td>Col.&lt;br&gt;2</td>\n",
       "    </tr>\n",
       "  </tbody>\n",
       "</table>\n",
       "</div>"
      ],
      "text/plain": [
       "                 estado  count     abrev        lat        long  countlog  \\\n",
       "6      Ciudad de México    197      CDMX  19.419444  -99.145556  5.283204   \n",
       "16               México    119      Méx.  19.354167  -99.630833  4.779123   \n",
       "13              Jalisco     85      Jal.  20.566667 -103.676389  4.442651   \n",
       "18           Nuevo León     67     N. L.  25.566667  -99.970556  4.204693   \n",
       "20               Puebla     66      Pue.  19.003611  -97.888333  4.189655   \n",
       "29              Yucatán     41      Yuc.  20.833333  -89.000000  3.713572   \n",
       "21         Quintana Roo     38     Q. R.  19.600000  -87.916667  3.637586   \n",
       "10           Guanajuato     37      Gto.  21.018889 -101.262778  3.610918   \n",
       "25              Tabasco     33      Tab.  17.972222  -92.588889  3.496508   \n",
       "7              Coahuila     32     Coah.  27.302222 -102.044722  3.465736   \n",
       "0        Aguascalientes     24      Ags.  22.021667 -102.356389  3.178054   \n",
       "22      San Luis Potosí     24  S. L. P.  22.603333 -100.429722  3.178054   \n",
       "28             Veracruz     24      Ver.  19.434722  -96.383056  3.178054   \n",
       "1       Baja California     23     B. C.  29.950000 -115.116667  3.135494   \n",
       "23              Sinaloa     19      Sin.  25.002778 -107.502778  2.944439   \n",
       "14            Michoacán     17     Mich.  19.168611 -101.899722  2.833213   \n",
       "12              Hidalgo     17      Hgo.  20.478333  -98.863611  2.833213   \n",
       "24               Sonora     14      Son.  29.646111 -110.868889  2.639057   \n",
       "19               Oaxaca     14      Oax.  16.898056  -96.414167  2.639057   \n",
       "11             Guerrero     13      Gro.  17.613056  -99.950000  2.564949   \n",
       "4               Chiapas     11     Chis.  16.410000  -92.408611  2.397895   \n",
       "2   Baja California Sur     11  B. C. S.  25.846111 -111.972778  2.397895   \n",
       "9               Durango      7      Dgo.  24.934722 -104.911944  1.945910   \n",
       "26           Tamaulipas      7    Tamps.  24.287222  -98.563333  1.945910   \n",
       "15              Morelos      6      Mor.  18.747500  -99.070278  1.791759   \n",
       "5             Chihuahua      6     Chih.  28.814167 -106.439444  1.791759   \n",
       "17              Nayarit      5      Nay.  21.743889 -105.228333  1.609438   \n",
       "30            Zacatecas      5      Zac.  23.292778 -102.700556  1.609438   \n",
       "27             Tlaxcala      4     Tlax.  19.428889  -98.160833  1.386294   \n",
       "3              Campeche      3     Camp.  18.836389  -90.403333  1.098612   \n",
       "8                Colima      2      Col.  19.096667 -103.960833  0.693147   \n",
       "\n",
       "              text  \n",
       "6      CDMX<br>197  \n",
       "16     Méx.<br>119  \n",
       "13      Jal.<br>85  \n",
       "18     N. L.<br>67  \n",
       "20      Pue.<br>66  \n",
       "29      Yuc.<br>41  \n",
       "21     Q. R.<br>38  \n",
       "10      Gto.<br>37  \n",
       "25      Tab.<br>33  \n",
       "7      Coah.<br>32  \n",
       "0       Ags.<br>24  \n",
       "22  S. L. P.<br>24  \n",
       "28      Ver.<br>24  \n",
       "1      B. C.<br>23  \n",
       "23      Sin.<br>19  \n",
       "14     Mich.<br>17  \n",
       "12      Hgo.<br>17  \n",
       "24      Son.<br>14  \n",
       "19      Oax.<br>14  \n",
       "11      Gro.<br>13  \n",
       "4      Chis.<br>11  \n",
       "2   B. C. S.<br>11  \n",
       "9        Dgo.<br>7  \n",
       "26     Tamps.<br>7  \n",
       "15       Mor.<br>6  \n",
       "5       Chih.<br>6  \n",
       "17       Nay.<br>5  \n",
       "30       Zac.<br>5  \n",
       "27      Tlax.<br>4  \n",
       "3       Camp.<br>3  \n",
       "8        Col.<br>2  "
      ]
     },
     "execution_count": 209,
     "metadata": {},
     "output_type": "execute_result"
    }
   ],
   "source": [
    "df_map.to_csv('../datos/tablas_procesadas/20200329_mapa.tsv',)"
   ]
  },
  {
   "cell_type": "code",
   "execution_count": null,
   "metadata": {},
   "outputs": [],
   "source": []
  }
 ],
 "metadata": {
  "kernelspec": {
   "display_name": "Python 3",
   "language": "python",
   "name": "python3"
  },
  "language_info": {
   "codemirror_mode": {
    "name": "ipython",
    "version": 3
   },
   "file_extension": ".py",
   "mimetype": "text/x-python",
   "name": "python",
   "nbconvert_exporter": "python",
   "pygments_lexer": "ipython3",
   "version": "3.6.10"
  }
 },
 "nbformat": 4,
 "nbformat_minor": 4
}
